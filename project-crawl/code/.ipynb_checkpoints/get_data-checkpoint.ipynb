{
 "cells": [
  {
   "cell_type": "code",
   "execution_count": 7,
   "metadata": {},
   "outputs": [],
   "source": [
    "from bs4 import BeautifulSoup\n",
    "import urllib.request\n",
    "\n",
    "import sys\n",
    "import re\n",
    "from collections import deque\n",
    "import logging"
   ]
  },
  {
   "cell_type": "code",
   "execution_count": 8,
   "metadata": {},
   "outputs": [],
   "source": [
    "def initialize_logger(log_level_info=True):\n",
    "    \n",
    "    logging_format = logging.Formatter('%(asctime)s - %(name)s - %(levelname)s - %(message)s')\n",
    "    \n",
    "    handler = logging.StreamHandler(sys.stdout)\n",
    "    handler.setFormatter(logging_format)\n",
    "    \n",
    "    logger = logging.getLogger(__name__)\n",
    "    logger.addHandler(handler)\n",
    "    \n",
    "    if log_level_info:\n",
    "        logger.setLevel(logging.INFO)\n",
    "    else:\n",
    "        logger.setLevel(logging.ERROR)\n",
    "    return logger\n"
   ]
  },
  {
   "cell_type": "code",
   "execution_count": 9,
   "metadata": {},
   "outputs": [],
   "source": [
    "logger = initialize_logger()"
   ]
  },
  {
   "cell_type": "code",
   "execution_count": 10,
   "metadata": {},
   "outputs": [],
   "source": [
    "def make_soup(url:str):\n",
    "    html = urllib.request.urlopen(url)\n",
    "    html = html.read()\n",
    "    soup = BeautifulSoup(html, \"html.parser\")\n",
    "    return soup"
   ]
  },
  {
   "cell_type": "code",
   "execution_count": 11,
   "metadata": {},
   "outputs": [],
   "source": [
    "def filter_body(content:str):\n",
    "    content = re.sub(r\"\\n+\", \" \", content)\n",
    "    a = ['Advertisement', 'Supported by']\n",
    "    if content in a:\n",
    "        return None\n",
    "    else:\n",
    "        return content"
   ]
  },
  {
   "cell_type": "code",
   "execution_count": 12,
   "metadata": {},
   "outputs": [],
   "source": [
    "def get_data(soup):\n",
    "    data = []\n",
    "    \n",
    "    # title\n",
    "    title = soup.find('span', {'class': 'css-fwqvlz'}) # title\n",
    "    title = title.getText()\n",
    "    data.append(title)\n",
    "    print(title)\n",
    "    \n",
    "    \n",
    "\n",
    "    # summary\n",
    "    # summary = soup.find('p', {'id': 'article-summary'})\n",
    "    # summary = summary.getText()\n",
    "    # print(summary)\n",
    "    \n",
    "    \n",
    "    # body\n",
    "    body = soup.findAll('div', {'class' : 'StoryBodyCompanionColumn'})\n",
    "\n",
    "    if body != None:\n",
    "        for p in soup.findAll('p'):\n",
    "            if p == None:\n",
    "                continue\n",
    "            content = p.getText()\n",
    "           \n",
    "            # filter\n",
    "            content = filter_body(content)\n",
    "            if content != None:\n",
    "                data.append(content)\n",
    "                print(content)\n",
    "    return data"
   ]
  },
  {
   "cell_type": "code",
   "execution_count": 13,
   "metadata": {},
   "outputs": [
    {
     "name": "stdout",
     "output_type": "stream",
     "text": [
      "Do Children Soak Up Language Like Sponges?\n",
      "A pervasive idea assumes that young children can absorb new languages with minimal effort, but it turns out that the science is more complicated.\n",
      "By Lindsay Patterson\n",
      "This story was originally published on June 28, 2019 on NYT Parenting.\n",
      "When my husband and I decided to pack up our comfortable lives in Austin, Texas, to move to Barcelona, Spain, we had a dream for our then-3-year-old son: He would become trilingual. In Barcelona, most people speak Spanish and Catalan, the regional language. Speaking three languages seemed like a big goal for a small person, but we believed it was possible because of one phrase: Children are like sponges.\n",
      "Whenever we told people about our plans to put our son in a Catalan school, they told us about sponges. Children learn languages quickly, they said. He’ll be speaking like a native in no time.\n",
      "But that’s not what happened. In September, our son started school. It wasn’t until March that he uttered his first full sentence in Catalan: “M’he fet mal” (I’ve hurt myself). But that didn’t open the floodgates of language. His teacher assured us that he understood everything — he followed directions well, and he was learning. But he stayed mostly silent. I began to worry that my child was not as sponge-like a learner as I’d been led to believe.\n",
      "It’s a notion that’s hard to escape. The sponge concept is central to common preconceptions about how children learn language. In a 1997 study, researchers surveyed 80 parents in Spain about why they were sending their children to English language daycares in Barcelona and Madrid. The truism that children soak up language was mentioned frequently.\n",
      "“The younger they are, the more they’re like sponges,” said one parent in an interview. “The more they absorb, the more they remember.”\n",
      "The researchers found that most parents believed that while learning language as an adult requires a lot of effort and study, children pick up new languages easily and quickly through play. The reasoning goes that the earlier we start learning another language, the better — before we lose this magical ability.\n",
      "It turns out that while it’s true that kids’ brains are especially receptive to learning, the science of childhood language acquisition is slightly more complicated. Dr. Carmen Muñoz, Ph.D., a language researcher at the University of Barcelona who was involved with the 1997 study, uses her public talks to deconstruct what she calls the myth of the sponge. “I show a picture with a sponge on a table and some water on the corner,” she said. To put it into words: Children need more than proximity to absorb a new language.\n",
      "Dr. Sandra Kuhlman, Ph.D., a neurobiologist at Carnegie Mellon University, studies inhibitory neurons, a type of cell in the brain’s cortical network that helps regulate the creation of neural connections. She calls them “gatekeeper circuits.” They decide whether or not to rewire the brain in response to experience — basically, they restrict what we can learn.\n",
      "“It turns out that these gatekeepers are more likely to allow for rewiring to happen in the young,” said Dr. Kuhlman. “The threshold to let them lower their gates is pretty low.”\n",
      "Because children haven’t had much experience, these cortical cells recognize almost everything as new and willingly absorb new information. But they get more judgmental as our understanding of the world solidifies. “As we get older, these cortical gatekeepers are more restrictive. They’re like, ‘Wait, this isn’t really a new experience,’” Dr. Kulhman said. “They keep the gate up.”\n",
      "There’s a term for that youthful time when the gates are easily lowered: “the critical period.” In neuroscience, the critical period is defined as a period of heightened plasticity, when the brain can easily make new neural connections in response to all kinds of information. In language learning, it’s the basis for the hope that my 3-year-old would eventually speak Catalan like someone who’d been born in Barcelona. But a few months into my son’s second year of classroom muteness, I’d started to get anxious.\n",
      "I called Dr. Karen Lichtman, Ph.D., who studies the relationship between age and language acquisition at Northern Illinois University. She quickly told me not to worry. “I think what most linguists would say is that your son is learning to speak Catalan just like everybody else in his class,” she said. “He’s just choosing not to speak.” In essence, my son was probably absorbing language like a sponge, but I had no way of knowing it.\n",
      "This was both reassuring and frustrating. Dr. Lichtman went on to say that my son was in the perfect language-learning situation, at the perfect time. She referred to the critical period to start a language as between ages 4 and 7. Other leading researchers, such as Dr. Robert DeKeyser, Ph.D., a professor of linguistics at the University of Maryland, believe that the critical period runs from ages 6 to 16, roughly until puberty ends. Linguists agree that people tend to get worse at language learning as they get older. Only children can acquire the native-like level of fluency.\n",
      "I knew this truth painfully well from my own daily struggle with Spanish and Catalan. But then Dr. Lichtman said something that surprised me: “People think that children are fast at learning language. They’re not fast, they’re slow.”\n",
      "She told me about a study she published in the Journal of Child Language in 2016, which compared how children and adults learn languages. For seven days, Dr. Lichtman and a research assistant taught a made-up language called Sillyspeak to separate groups of children and adults in two different ways. The first group learned by explicit instruction, with grammar rules laid out — the way most languages are taught in school. The other group never heard the rules of Sillyspeak, but just practiced sentences with the help of toys. Children are generally thought to learn better by this type of play-focused instruction. At the end of the study, adults demonstrated more knowledge of the language, regardless of the type of instruction they had received.\n",
      "“The adults were more accurate than the kids. The adults were faster than the kids,” said Dr. Lichtman. “That’s how it is at the beginning stages. It’s the distinction between learning something faster and learning something better, and that’s where people are confused.”\n",
      "Children don’t have some secret mechanism that allows them to learn language, Dr. Lichtman explained. Their ability to “learn better” comes from the amount of time they’re exposed to the language — though how much time it takes is still up for debate.\n",
      "In contrast, adults can piece together the rules of a language more quickly than children because they have more mature puzzle-solving skills and are better at understanding rules and patterns. They have more knowledge about how language works, better study skills and generally have more mature cognitive abilities. But that kind of learning only goes so far. Even if an adult becomes fluent, they’ll always carry a tell-tale accent. It’s a sign that certain elements of language can never fully penetrate the adult brain.\n",
      "That’s also the lesson when it comes to how kids learn language in school. Dr. Muñoz, the language researcher who likes to deconstruct the sponge myth, ran a longitudinal study called the Barcelona Age Factor Project, which ran from 1995 to 2006. In the mid-1990s, schools in Barcelona decided to change the age for starting English classes from age 11 to 8, influenced by the idea of the earlier, the better. The study tested and compared students at schools that switched immediately to those that delayed the change, within the same neighborhood. Students had approximately two hours of traditional classroom English instruction each week, learning speaking, reading, writing and listening. In nearly every measure tested, the students who started at age 11 performed better at English than those who started at age 8 — even when the younger learners had ultimately received the same amount of instruction.\n",
      "That’s why Dr. Muñoz makes the point that children are only sponges when they get deep and meaningful exposure to the language. “You need a high frequency of input, of good quality,” she said. “You have to live with the language, use the language and function in the language.”\n",
      "Like Dr. Lichtman, she told me that my son was in the ideal sponge situation. “You can relax,” she said. “It’s going to happen.”\n",
      "It did. After a year and a half, my son began speaking Spanish and Catalan all at once. One night, he slept over at a Spanish-speaking friend’s house. When we picked him up, he was chatting with the whole family. Even knowing the effort and time it took, it felt like he’d done a magic trick.\n",
      "These days, I overhear him speaking a mix of three languages to himself when he’s playing alone. The sound of his voice speaking unfamiliar words fills me with a powerful mix of pride and wonder. He was absorbing all along — it just took time to squeeze out what he’d learned.\n",
      "Lindsay Patterson is a freelance science writer based in Barcelona, and creator and producer of Tumble Science Podcast for Kids.\n"
     ]
    }
   ],
   "source": [
    "url = 'https://www.nytimes.com/2020/04/16/parenting/children-language-development.html'\n",
    "soup = make_soup(url)\n",
    "data = get_data(soup)"
   ]
  },
  {
   "cell_type": "code",
   "execution_count": null,
   "metadata": {},
   "outputs": [],
   "source": []
  }
 ],
 "metadata": {
  "kernelspec": {
   "display_name": "Python 3",
   "language": "python",
   "name": "python3"
  },
  "language_info": {
   "codemirror_mode": {
    "name": "ipython",
    "version": 3
   },
   "file_extension": ".py",
   "mimetype": "text/x-python",
   "name": "python",
   "nbconvert_exporter": "python",
   "pygments_lexer": "ipython3",
   "version": "3.7.4"
  }
 },
 "nbformat": 4,
 "nbformat_minor": 2
}
